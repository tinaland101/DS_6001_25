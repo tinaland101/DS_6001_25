{
 "cells": [
  {
   "cell_type": "code",
   "execution_count": null,
   "id": "5d4d0ffa",
   "metadata": {},
   "outputs": [],
   "source": [
    "import pandas as pd\n",
    "import numpy as np\n",
    "# import print\n",
    "# import  SciPy\n",
    "# import ydata"
   ]
  },
  {
   "cell_type": "markdown",
   "id": "f7ba5dbc",
   "metadata": {},
   "source": []
  },
  {
   "cell_type": "code",
   "execution_count": null,
   "id": "cedfbc24",
   "metadata": {},
   "outputs": [],
   "source": [
    "import pandas as pd\n",
    "data = pd.read_csv('ahs2023_cleaned.csv')\n",
    "data.transpose().head(5)\n"
   ]
  },
  {
   "cell_type": "code",
   "execution_count": null,
   "id": "f65dd1ea",
   "metadata": {},
   "outputs": [],
   "source": [
    "# show eda dashboard\n",
    "profile = ProfileReport( data, title='American Housing Survey 2023' , html={\"style\":{'full_width':True}},\n",
    "                        )"
   ]
  },
  {
   "cell_type": "code",
   "execution_count": null,
   "id": "f3942a6c",
   "metadata": {},
   "outputs": [],
   "source": [
    "data['TENURE'].value_counts()"
   ]
  },
  {
   "cell_type": "code",
   "execution_count": null,
   "id": "fbc5de6d",
   "metadata": {},
   "outputs": [],
   "source": [
    "data.groupby['HIMCP'].agg{'HINCP':{'mean', 'median'}}]"
   ]
  },
  {
   "cell_type": "code",
   "execution_count": null,
   "id": "1ffab7a3",
   "metadata": {},
   "outputs": [],
   "source": [
    "stats.f_oneway[ahs.queru('TENURE='Rented'\")]"
   ]
  }
 ],
 "metadata": {
  "kernelspec": {
   "display_name": "Python 3 (ipykernel)",
   "language": "python",
   "name": "python3"
  },
  "language_info": {
   "codemirror_mode": {
    "name": "ipython",
    "version": 3
   },
   "file_extension": ".py",
   "mimetype": "text/x-python",
   "name": "python",
   "nbconvert_exporter": "python",
   "pygments_lexer": "ipython3",
   "version": "3.12.10"
  }
 },
 "nbformat": 4,
 "nbformat_minor": 5
}
